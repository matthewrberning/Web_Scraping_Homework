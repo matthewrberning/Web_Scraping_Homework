{
 "cells": [
  {
   "cell_type": "code",
   "execution_count": 65,
   "metadata": {},
   "outputs": [],
   "source": [
    "# Matthew Berning\n",
    "# import dependancies\n",
    "import pandas as pd\n",
    "from bs4 import BeautifulSoup\n",
    "# as bs\n",
    "import requests\n",
    "from requests import get"
   ]
  },
  {
   "cell_type": "code",
   "execution_count": 66,
   "metadata": {},
   "outputs": [],
   "source": [
    "# URL of page to be scraped\n",
    "url = 'https://mars.nasa.gov/news/'\n",
    "# ?page=0&per_page=40&order=publish_date+desc%2Ccreated_at+desc&search=&category=19%2C165%2C184%2C204&blank_scope=Latest'\n",
    "\n",
    "# # Retrieve page with the requests module\n",
    "# response = requests.get(url)\n",
    "# # Create BeautifulSoup object; parse with 'lxml'\n",
    "# soup = BeautifulSoup(response.text, 'lxml')\n",
    "# print(soup)"
   ]
  },
  {
   "cell_type": "code",
   "execution_count": 67,
   "metadata": {},
   "outputs": [
    {
     "name": "stdout",
     "output_type": "stream",
     "text": [
      "0\n"
     ]
    }
   ],
   "source": [
    "response = get(url)\n",
    "\n",
    "soup = BeautifulSoup(response.text, 'html5lib')\n",
    "\n",
    "article = soup.find_all('div', class_='list_date')\n",
    "print(len(article))"
   ]
  },
  {
   "cell_type": "code",
   "execution_count": 68,
   "metadata": {},
   "outputs": [],
   "source": [
    "# results = soup.find_all('div', class_= 'list_date')\n",
    "# print(results)"
   ]
  },
  {
   "cell_type": "code",
   "execution_count": 69,
   "metadata": {},
   "outputs": [],
   "source": [
    "# r = requests.get(url)\n",
    "# soup = BeautifulSoup(r.content, 'lxml-xml')\n",
    "# print(str(len(soup.find_all('div', class_='list_date'))) + \" \" + str(len(soup.find_all('div', class_='content_title'))))\n"
   ]
  },
  {
   "cell_type": "code",
   "execution_count": 70,
   "metadata": {},
   "outputs": [],
   "source": [
    "# from urllib.request import urlopen as uReq\n",
    "# from bs4 import BeautifulSoup as soup\n",
    "\n",
    "# # my_url = 'https://prosettings.net/counterstrike/fer/'\n",
    "\n",
    "# uClient = uReq(url)\n",
    "# page_html = uClient.read()\n",
    "# uClient.close()\n",
    "\n",
    "# page_soup = soup(page_html, \"html.parser\")\n",
    "\n",
    "# containers = page_soup.findAll(\"li\",{\"class\":\"x-block-grid-item\"})\n",
    "# cont_res = containers[8].p.text \n",
    "# print(\"Res: \" + cont_res) "
   ]
  },
  {
   "cell_type": "code",
   "execution_count": 71,
   "metadata": {},
   "outputs": [],
   "source": [
    "# from urllib.request import urlopen\n",
    "# from bs4 import BeautifulSoup\n",
    "\n",
    "\n",
    "\n",
    "# res = urlopen(url).read()\n",
    "# soup = BeautifulSoup(res, \"html.parser\")\n",
    "# res = soup.find_all(class_=\"content_title\")\n",
    "\n",
    "# print(res)"
   ]
  },
  {
   "cell_type": "code",
   "execution_count": null,
   "metadata": {},
   "outputs": [],
   "source": []
  }
 ],
 "metadata": {
  "kernelspec": {
   "display_name": "Python [conda env:PythonData]",
   "language": "python",
   "name": "conda-env-PythonData-py"
  },
  "language_info": {
   "codemirror_mode": {
    "name": "ipython",
    "version": 3
   },
   "file_extension": ".py",
   "mimetype": "text/x-python",
   "name": "python",
   "nbconvert_exporter": "python",
   "pygments_lexer": "ipython3",
   "version": "3.6.5"
  }
 },
 "nbformat": 4,
 "nbformat_minor": 2
}
